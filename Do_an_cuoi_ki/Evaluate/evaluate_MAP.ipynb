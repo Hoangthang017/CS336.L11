{
  "nbformat": 4,
  "nbformat_minor": 0,
  "metadata": {
    "colab": {
      "name": " evaluate_MAP",
      "provenance": [],
      "authorship_tag": "ABX9TyMSoP/8Rdm1BFXCFqegNSH2",
      "include_colab_link": true
    },
    "kernelspec": {
      "name": "python3",
      "display_name": "Python 3"
    }
  },
  "cells": [
    {
      "cell_type": "markdown",
      "metadata": {
        "id": "view-in-github",
        "colab_type": "text"
      },
      "source": [
        "<a href=\"https://colab.research.google.com/github/Hoangthang017/CS336.L11/blob/master/Do_an_cuoi_ki/Evaluate/evaluate_MAP.ipynb\" target=\"_parent\"><img src=\"https://colab.research.google.com/assets/colab-badge.svg\" alt=\"Open In Colab\"/></a>"
      ]
    },
    {
      "cell_type": "code",
      "metadata": {
        "id": "Q6QrxwuSCdH9"
      },
      "source": [
        "import numpy as np"
      ],
      "execution_count": 56,
      "outputs": []
    },
    {
      "cell_type": "code",
      "metadata": {
        "id": "LVfv8ITLCv_A"
      },
      "source": [
        "data_cosine_10 = np.array([1, 1, 1, 0, 0, 1, 1, 1, 0, 0])"
      ],
      "execution_count": 57,
      "outputs": []
    },
    {
      "cell_type": "code",
      "metadata": {
        "id": "JLdwQ9ut3IG5"
      },
      "source": [
        "data_cosine_20 = np.array([1, 1, 1, 0, 1, 1, 1, 0, 0, 0, 0, 1, 1, 0, 1, 0, 0, 0, 0, 1  ])"
      ],
      "execution_count": 58,
      "outputs": []
    },
    {
      "cell_type": "code",
      "metadata": {
        "id": "NhiKSRS62zZZ"
      },
      "source": [
        "# hàm tính AP\r\n",
        "def calc_AP(data):\r\n",
        "    idx_P = np.where(data == 1)[0]\r\n",
        "    sum_p = 0\r\n",
        "    for i,idx in enumerate(idx_P):\r\n",
        "        sum_p += (i+1)/(idx+1)\r\n",
        "    AP = sum_p/len(idx_P)\r\n",
        "    return AP"
      ],
      "execution_count": 59,
      "outputs": []
    },
    {
      "cell_type": "code",
      "metadata": {
        "id": "Wu0hZV8b3AFU"
      },
      "source": [
        "# hàm tính MAP\r\n",
        "def calc_MAP(datas):\r\n",
        "    sum_map = 0 \r\n",
        "    for data in datas:\r\n",
        "        sum_map += calc_AP(data)\r\n",
        "    return sum_map/len(datas)"
      ],
      "execution_count": 60,
      "outputs": []
    },
    {
      "cell_type": "code",
      "metadata": {
        "colab": {
          "base_uri": "https://localhost:8080/"
        },
        "id": "E2-Ed8STCY25",
        "outputId": "8726e1fa-98df-4d16-c7cc-6e1f32d85e13"
      },
      "source": [
        "print(\"MAP của Cosine_10:\",calc_AP(data_cosine_10))\r\n",
        "print(\"MAP của Cosine_20:\",calc_AP(data_cosine_20))"
      ],
      "execution_count": 61,
      "outputs": [
        {
          "output_type": "stream",
          "text": [
            "MAP của Cosine_10: 0.8551587301587301\n",
            "MAP của Cosine_20: 0.7789194139194138\n"
          ],
          "name": "stdout"
        }
      ]
    }
  ]
}