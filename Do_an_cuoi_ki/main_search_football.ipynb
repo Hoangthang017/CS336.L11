{
  "nbformat": 4,
  "nbformat_minor": 0,
  "metadata": {
    "colab": {
      "name": "main_search_football.ipynb",
      "provenance": [],
      "include_colab_link": true
    },
    "kernelspec": {
      "name": "python3",
      "display_name": "Python 3"
    }
  },
  "cells": [
    {
      "cell_type": "markdown",
      "metadata": {
        "id": "view-in-github",
        "colab_type": "text"
      },
      "source": [
        "<a href=\"https://colab.research.google.com/github/Hoangthang017/CS336.L11/blob/master/Do_an_cuoi_ki/main_search_football.ipynb\" target=\"_parent\"><img src=\"https://colab.research.google.com/assets/colab-badge.svg\" alt=\"Open In Colab\"/></a>"
      ]
    },
    {
      "cell_type": "markdown",
      "metadata": {
        "id": "ptZRH_ZULAAI"
      },
      "source": [
        "# **clone github**"
      ]
    },
    {
      "cell_type": "code",
      "metadata": {
        "id": "GYrw1nVzvNjD"
      },
      "source": [
        "# clone github\r\n",
        "!git clone https://github.com/Hoangthang017/CS336.L11.git\r\n",
        "!pip install underthesea"
      ],
      "execution_count": null,
      "outputs": []
    },
    {
      "cell_type": "markdown",
      "metadata": {
        "id": "PPyZ2uqcLDZx"
      },
      "source": [
        "# **import thư viện**"
      ]
    },
    {
      "cell_type": "code",
      "metadata": {
        "id": "Sb4s9PjW8bkk"
      },
      "source": [
        "from glob import glob\r\n",
        "import pandas as pd\r\n",
        "import pickle\r\n",
        "import re\r\n",
        "import string\r\n",
        "import numpy as np\r\n",
        "from underthesea import word_tokenize\r\n",
        "from sklearn.feature_extraction.text import TfidfVectorizer\r\n",
        "import sys\r\n",
        "sys.path.insert(1, '/content/CS336.L11/Do_an_cuoi_ki/import_file')\r\n",
        "import create_tfidf"
      ],
      "execution_count": 2,
      "outputs": []
    },
    {
      "cell_type": "markdown",
      "metadata": {
        "id": "JiLkwO0cLH0q"
      },
      "source": [
        "# **load đường dẫn file**"
      ]
    },
    {
      "cell_type": "code",
      "metadata": {
        "id": "D10nJorpxAHX"
      },
      "source": [
        "# unzip data\r\n",
        "import zipfile\r\n",
        "with zipfile.ZipFile(\"/content/CS336.L11/Do_an_cuoi_ki/dataset_football/bong_da_v1.zip\", 'r') as zip_ref:\r\n",
        "    zip_ref.extractall(\"/content/CS336.L11/Do_an_cuoi_ki/dataset_football/\")\r\n",
        "# load dataset\r\n",
        "files_path = glob(\"/content/CS336.L11/Do_an_cuoi_ki/dataset_football/Bong Da/*/*.txt\")"
      ],
      "execution_count": 3,
      "outputs": []
    },
    {
      "cell_type": "code",
      "metadata": {
        "id": "L1JD1j9OcqNm"
      },
      "source": [
        "# print(files_path)"
      ],
      "execution_count": 4,
      "outputs": []
    },
    {
      "cell_type": "markdown",
      "metadata": {
        "id": "XBCIAlQSLMgQ"
      },
      "source": [
        "# **load tfidf file **"
      ]
    },
    {
      "cell_type": "code",
      "metadata": {
        "id": "H_ckfaXW079M"
      },
      "source": [
        "# unzip data\r\n",
        "import zipfile\r\n",
        "with zipfile.ZipFile(\"/content/CS336.L11/Do_an_cuoi_ki/dataset_tfidf/tfidf_vector.zip\", 'r') as zip_ref:\r\n",
        "    zip_ref.extractall(\"/content/CS336.L11/Do_an_cuoi_ki/dataset_tfidf/\")\r\n",
        "# load data from gg drive \r\n",
        "df_tfidf = pd.read_csv('/content/CS336.L11/Do_an_cuoi_ki/dataset_tfidf/tfidf_vector.csv', index_col=0)"
      ],
      "execution_count": 5,
      "outputs": []
    },
    {
      "cell_type": "code",
      "metadata": {
        "id": "Lqek2H25cs0K"
      },
      "source": [
        "# print(df_tfidf)"
      ],
      "execution_count": 6,
      "outputs": []
    },
    {
      "cell_type": "markdown",
      "metadata": {
        "id": "JFE_gyl_LQCK"
      },
      "source": [
        "# **load model vectorizer** "
      ]
    },
    {
      "cell_type": "code",
      "metadata": {
        "id": "vBQtfu781HUJ"
      },
      "source": [
        "# load vectorizer\r\n",
        "vectorizer = pickle.load(open('/content/CS336.L11/Do_an_cuoi_ki/dataset_tfidf/vectorizer.pk', 'rb'))"
      ],
      "execution_count": 7,
      "outputs": []
    },
    {
      "cell_type": "markdown",
      "metadata": {
        "id": "U4EPqICELSwO"
      },
      "source": [
        "# **hàm chính** "
      ]
    },
    {
      "cell_type": "markdown",
      "metadata": {
        "id": "CWcGjSw3LVlg"
      },
      "source": [
        "## *Nhập câu truy vấn và thực hiện truy vấn*"
      ]
    },
    {
      "cell_type": "code",
      "metadata": {
        "id": "wkz5h4NL7_f5"
      },
      "source": [
        "# câu truy vấn\r\n",
        "query = 'barcelona'\r\n",
        "# tiền xử lí câu truy vấn\r\n",
        "query = create_tfidf.text_preprocess(query)\r\n",
        "# gọi hàm truy vấn\r\n",
        "sim_sorted = create_tfidf.get_similar_articles(query,df_tfidf,vectorizer)"
      ],
      "execution_count": 10,
      "outputs": []
    },
    {
      "cell_type": "markdown",
      "metadata": {
        "id": "i8WpZ4tpLa2U"
      },
      "source": [
        "## *Xuất kết quả truy vấn*"
      ]
    },
    {
      "cell_type": "code",
      "metadata": {
        "id": "p-LRqP1O_-Hn",
        "outputId": "c0644249-afbc-4303-e269-cb630d4c83b3",
        "colab": {
          "base_uri": "https://localhost:8080/"
        }
      },
      "source": [
        "# số lượng bài viết tìm được\r\n",
        "rank = 10\r\n",
        "now = 0\r\n",
        "\r\n",
        "# in kết quả truy vấn được\r\n",
        "for k, v in sim_sorted:\r\n",
        "  print(\"Độ tương đồng: \", v)\r\n",
        "  # print(\"Tiêu đề: \", files_name[k])\r\n",
        "  print(files_path[k])\r\n",
        "  now += 1\r\n",
        "  if (now == rank):\r\n",
        "    break"
      ],
      "execution_count": 11,
      "outputs": [
        {
          "output_type": "stream",
          "text": [
            "Độ tương đồng:  0.2173394309208078\n",
            "/content/CS336.L11/Do_an_cuoi_ki/dataset_football/Bong Da/Tây Ban Nha/Guardiola được nhắm đưa về để _cứu_ Barca.txt\n",
            "Độ tương đồng:  0.20287261288742134\n",
            "/content/CS336.L11/Do_an_cuoi_ki/dataset_football/Bong Da/Tây Ban Nha/Với Real, El Clasico  là một... _phiên tòa_.txt\n",
            "Độ tương đồng:  0.17597054697633088\n",
            "/content/CS336.L11/Do_an_cuoi_ki/dataset_football/Bong Da/Tây Ban Nha/Barca khủng hoảng tài chính do Messi nhiều hơn do Covid-19.txt\n",
            "Độ tương đồng:  0.15743961046116814\n",
            "/content/CS336.L11/Do_an_cuoi_ki/dataset_football/Bong Da/Champions League/Koeman vs Pirlo_ Chỉ là bóng đá thôi mà!.txt\n",
            "Độ tương đồng:  0.14588722669930643\n",
            "/content/CS336.L11/Do_an_cuoi_ki/dataset_football/Bong Da/Tây Ban Nha/Zidane chưa từng thua tại Nou Camp ở El Clasico.txt\n",
            "Độ tương đồng:  0.12673571911561704\n",
            "/content/CS336.L11/Do_an_cuoi_ki/dataset_football/Bong Da/Tây Ban Nha/_Messi đang rất khó chịu tại Barca_.txt\n",
            "Độ tương đồng:  0.11290587867764058\n",
            "/content/CS336.L11/Do_an_cuoi_ki/dataset_football/Bong Da/Tây Ban Nha/Messi bị ví như _căn bệnh ung thư_ ở Barca.txt\n",
            "Độ tương đồng:  0.10090518300674782\n",
            "/content/CS336.L11/Do_an_cuoi_ki/dataset_football/Bong Da/Pháp/HLV Tuchel chèo kéo Messi đến PSG sau thất bại ở chung kết Champions League.txt\n",
            "Độ tương đồng:  0.09687091723552997\n",
            "/content/CS336.L11/Do_an_cuoi_ki/dataset_football/Bong Da/Tây Ban Nha/Messi cười khẩy khi bị thầy cũ Setien quở trách.txt\n",
            "Độ tương đồng:  0.09362991437347738\n",
            "/content/CS336.L11/Do_an_cuoi_ki/dataset_football/Bong Da/Tây Ban Nha/La Liga có dám phạt Messi vì hành động đá bóng vào trọng tài_.txt\n"
          ],
          "name": "stdout"
        }
      ]
    }
  ]
}