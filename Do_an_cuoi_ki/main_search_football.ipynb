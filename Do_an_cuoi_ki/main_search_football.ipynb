{
  "nbformat": 4,
  "nbformat_minor": 0,
  "metadata": {
    "colab": {
      "name": "main_search_football.ipynb",
      "provenance": [],
      "toc_visible": true,
      "include_colab_link": true
    },
    "kernelspec": {
      "name": "python3",
      "display_name": "Python 3"
    }
  },
  "cells": [
    {
      "cell_type": "markdown",
      "metadata": {
        "id": "view-in-github",
        "colab_type": "text"
      },
      "source": [
        "<a href=\"https://colab.research.google.com/github/Hoangthang017/CS336.L11/blob/master/Do_an_cuoi_ki/main_search_football.ipynb\" target=\"_parent\"><img src=\"https://colab.research.google.com/assets/colab-badge.svg\" alt=\"Open In Colab\"/></a>"
      ]
    },
    {
      "cell_type": "markdown",
      "metadata": {
        "id": "ptZRH_ZULAAI"
      },
      "source": [
        "# **clone github**"
      ]
    },
    {
      "cell_type": "code",
      "metadata": {
        "id": "GYrw1nVzvNjD",
        "outputId": "ae4a44d5-444d-4177-9bc2-eb580c765fe4",
        "colab": {
          "base_uri": "https://localhost:8080/"
        }
      },
      "source": [
        "# clone github\r\n",
        "!git clone https://github.com/Hoangthang017/CS336.L11.git\r\n",
        "# !pip install underthesea"
      ],
      "execution_count": 1,
      "outputs": [
        {
          "output_type": "stream",
          "text": [
            "Cloning into 'CS336.L11'...\n",
            "remote: Enumerating objects: 22, done.\u001b[K\n",
            "remote: Counting objects: 100% (22/22), done.\u001b[K\n",
            "remote: Compressing objects: 100% (22/22), done.\u001b[K\n",
            "remote: Total 185 (delta 5), reused 0 (delta 0), pack-reused 163\u001b[K\n",
            "Receiving objects: 100% (185/185), 43.94 MiB | 29.72 MiB/s, done.\n",
            "Resolving deltas: 100% (71/71), done.\n"
          ],
          "name": "stdout"
        }
      ]
    },
    {
      "cell_type": "code",
      "metadata": {
        "id": "UX4jqDPu1AYS",
        "outputId": "37a801e3-d587-4462-8284-aee559e31d78",
        "colab": {
          "base_uri": "https://localhost:8080/"
        }
      },
      "source": [
        "!pip install /content/CS336.L11/Do_an_cuoi_ki/import_file/underthesea-1.3.0-py3-none-any.whl"
      ],
      "execution_count": 2,
      "outputs": [
        {
          "output_type": "stream",
          "text": [
            "Processing ./CS336.L11/Do_an_cuoi_ki/import_file/underthesea-1.3.0-py3-none-any.whl\n",
            "Requirement already satisfied: nltk in /usr/local/lib/python3.6/dist-packages (from underthesea==1.3.0) (3.2.5)\n",
            "Requirement already satisfied: Click>=6.0 in /usr/local/lib/python3.6/dist-packages (from underthesea==1.3.0) (7.1.2)\n",
            "Requirement already satisfied: requests in /usr/local/lib/python3.6/dist-packages (from underthesea==1.3.0) (2.23.0)\n",
            "Collecting unidecode\n",
            "\u001b[?25l  Downloading https://files.pythonhosted.org/packages/74/65/91eab655041e9e92f948cb7302e54962035762ce7b518272ed9d6b269e93/Unidecode-1.1.2-py2.py3-none-any.whl (239kB)\n",
            "\u001b[K     |████████████████████████████████| 245kB 4.2MB/s \n",
            "\u001b[?25hRequirement already satisfied: joblib in /usr/local/lib/python3.6/dist-packages (from underthesea==1.3.0) (1.0.0)\n",
            "Requirement already satisfied: PyYAML in /usr/local/lib/python3.6/dist-packages (from underthesea==1.3.0) (3.13)\n",
            "Requirement already satisfied: tqdm in /usr/local/lib/python3.6/dist-packages (from underthesea==1.3.0) (4.41.1)\n",
            "Collecting scikit-learn<0.22,>=0.20\n",
            "\u001b[?25l  Downloading https://files.pythonhosted.org/packages/a0/c5/d2238762d780dde84a20b8c761f563fe882b88c5a5fb03c056547c442a19/scikit_learn-0.21.3-cp36-cp36m-manylinux1_x86_64.whl (6.7MB)\n",
            "\u001b[K     |████████████████████████████████| 6.7MB 20.7MB/s \n",
            "\u001b[?25hCollecting seqeval\n",
            "\u001b[?25l  Downloading https://files.pythonhosted.org/packages/9d/2d/233c79d5b4e5ab1dbf111242299153f3caddddbb691219f363ad55ce783d/seqeval-1.2.2.tar.gz (43kB)\n",
            "\u001b[K     |████████████████████████████████| 51kB 5.0MB/s \n",
            "\u001b[?25hCollecting torch<=1.5.1,>=1.1.0\n",
            "\u001b[?25l  Downloading https://files.pythonhosted.org/packages/62/01/457b49d790b6c4b9720e6f9dbbb617692f6ce8afdaadf425c055c41a7416/torch-1.5.1-cp36-cp36m-manylinux1_x86_64.whl (753.2MB)\n",
            "\u001b[K     |████████████████████████████████| 753.2MB 22kB/s \n",
            "\u001b[?25hCollecting transformers<=3.5.1,>=3.5.0\n",
            "\u001b[?25l  Downloading https://files.pythonhosted.org/packages/3a/83/e74092e7f24a08d751aa59b37a9fc572b2e4af3918cb66f7766c3affb1b4/transformers-3.5.1-py3-none-any.whl (1.3MB)\n",
            "\u001b[K     |████████████████████████████████| 1.3MB 42.6MB/s \n",
            "\u001b[?25hCollecting python-crfsuite>=0.9.6\n",
            "\u001b[?25l  Downloading https://files.pythonhosted.org/packages/95/99/869dde6dbf3e0d07a013c8eebfb0a3d30776334e0097f8432b631a9a3a19/python_crfsuite-0.9.7-cp36-cp36m-manylinux1_x86_64.whl (743kB)\n",
            "\u001b[K     |████████████████████████████████| 747kB 45.8MB/s \n",
            "\u001b[?25hRequirement already satisfied: six in /usr/local/lib/python3.6/dist-packages (from nltk->underthesea==1.3.0) (1.15.0)\n",
            "Requirement already satisfied: urllib3!=1.25.0,!=1.25.1,<1.26,>=1.21.1 in /usr/local/lib/python3.6/dist-packages (from requests->underthesea==1.3.0) (1.24.3)\n",
            "Requirement already satisfied: chardet<4,>=3.0.2 in /usr/local/lib/python3.6/dist-packages (from requests->underthesea==1.3.0) (3.0.4)\n",
            "Requirement already satisfied: idna<3,>=2.5 in /usr/local/lib/python3.6/dist-packages (from requests->underthesea==1.3.0) (2.10)\n",
            "Requirement already satisfied: certifi>=2017.4.17 in /usr/local/lib/python3.6/dist-packages (from requests->underthesea==1.3.0) (2020.12.5)\n",
            "Requirement already satisfied: numpy>=1.11.0 in /usr/local/lib/python3.6/dist-packages (from scikit-learn<0.22,>=0.20->underthesea==1.3.0) (1.19.4)\n",
            "Requirement already satisfied: scipy>=0.17.0 in /usr/local/lib/python3.6/dist-packages (from scikit-learn<0.22,>=0.20->underthesea==1.3.0) (1.4.1)\n",
            "Requirement already satisfied: future in /usr/local/lib/python3.6/dist-packages (from torch<=1.5.1,>=1.1.0->underthesea==1.3.0) (0.16.0)\n",
            "Requirement already satisfied: filelock in /usr/local/lib/python3.6/dist-packages (from transformers<=3.5.1,>=3.5.0->underthesea==1.3.0) (3.0.12)\n",
            "Collecting tokenizers==0.9.3\n",
            "\u001b[?25l  Downloading https://files.pythonhosted.org/packages/4c/34/b39eb9994bc3c999270b69c9eea40ecc6f0e97991dba28282b9fd32d44ee/tokenizers-0.9.3-cp36-cp36m-manylinux1_x86_64.whl (2.9MB)\n",
            "\u001b[K     |████████████████████████████████| 2.9MB 50.5MB/s \n",
            "\u001b[?25hCollecting sentencepiece==0.1.91\n",
            "\u001b[?25l  Downloading https://files.pythonhosted.org/packages/d4/a4/d0a884c4300004a78cca907a6ff9a5e9fe4f090f5d95ab341c53d28cbc58/sentencepiece-0.1.91-cp36-cp36m-manylinux1_x86_64.whl (1.1MB)\n",
            "\u001b[K     |████████████████████████████████| 1.1MB 34.3MB/s \n",
            "\u001b[?25hRequirement already satisfied: dataclasses; python_version < \"3.7\" in /usr/local/lib/python3.6/dist-packages (from transformers<=3.5.1,>=3.5.0->underthesea==1.3.0) (0.8)\n",
            "Requirement already satisfied: regex!=2019.12.17 in /usr/local/lib/python3.6/dist-packages (from transformers<=3.5.1,>=3.5.0->underthesea==1.3.0) (2019.12.20)\n",
            "Requirement already satisfied: protobuf in /usr/local/lib/python3.6/dist-packages (from transformers<=3.5.1,>=3.5.0->underthesea==1.3.0) (3.12.4)\n",
            "Requirement already satisfied: packaging in /usr/local/lib/python3.6/dist-packages (from transformers<=3.5.1,>=3.5.0->underthesea==1.3.0) (20.8)\n",
            "Collecting sacremoses\n",
            "\u001b[?25l  Downloading https://files.pythonhosted.org/packages/7d/34/09d19aff26edcc8eb2a01bed8e98f13a1537005d31e95233fd48216eed10/sacremoses-0.0.43.tar.gz (883kB)\n",
            "\u001b[K     |████████████████████████████████| 890kB 51.9MB/s \n",
            "\u001b[?25hRequirement already satisfied: setuptools in /usr/local/lib/python3.6/dist-packages (from protobuf->transformers<=3.5.1,>=3.5.0->underthesea==1.3.0) (50.3.2)\n",
            "Requirement already satisfied: pyparsing>=2.0.2 in /usr/local/lib/python3.6/dist-packages (from packaging->transformers<=3.5.1,>=3.5.0->underthesea==1.3.0) (2.4.7)\n",
            "Building wheels for collected packages: seqeval, sacremoses\n",
            "  Building wheel for seqeval (setup.py) ... \u001b[?25l\u001b[?25hdone\n",
            "  Created wheel for seqeval: filename=seqeval-1.2.2-cp36-none-any.whl size=16171 sha256=ffc195cb090b9eff9a7ddadb0f8dd5046d3908763775b0ce50058df6a6bbab32\n",
            "  Stored in directory: /root/.cache/pip/wheels/52/df/1b/45d75646c37428f7e626214704a0e35bd3cfc32eda37e59e5f\n",
            "  Building wheel for sacremoses (setup.py) ... \u001b[?25l\u001b[?25hdone\n",
            "  Created wheel for sacremoses: filename=sacremoses-0.0.43-cp36-none-any.whl size=893261 sha256=aa233f58e2261e0a2ae6733c9f1ea9fdfe607064c9d9b65c0ec338609b2c06ae\n",
            "  Stored in directory: /root/.cache/pip/wheels/29/3c/fd/7ce5c3f0666dab31a50123635e6fb5e19ceb42ce38d4e58f45\n",
            "Successfully built seqeval sacremoses\n",
            "\u001b[31mERROR: torchvision 0.8.1+cu101 has requirement torch==1.7.0, but you'll have torch 1.5.1 which is incompatible.\u001b[0m\n",
            "Installing collected packages: unidecode, scikit-learn, seqeval, torch, tokenizers, sentencepiece, sacremoses, transformers, python-crfsuite, underthesea\n",
            "  Found existing installation: scikit-learn 0.22.2.post1\n",
            "    Uninstalling scikit-learn-0.22.2.post1:\n",
            "      Successfully uninstalled scikit-learn-0.22.2.post1\n",
            "  Found existing installation: torch 1.7.0+cu101\n",
            "    Uninstalling torch-1.7.0+cu101:\n",
            "      Successfully uninstalled torch-1.7.0+cu101\n",
            "Successfully installed python-crfsuite-0.9.7 sacremoses-0.0.43 scikit-learn-0.21.3 sentencepiece-0.1.91 seqeval-1.2.2 tokenizers-0.9.3 torch-1.5.1 transformers-3.5.1 underthesea-1.3.0 unidecode-1.1.2\n"
          ],
          "name": "stdout"
        }
      ]
    },
    {
      "cell_type": "code",
      "metadata": {
        "id": "Vid90DCM1vir",
        "outputId": "6a59b498-87d6-43a8-80cf-2101b7f947b6",
        "colab": {
          "base_uri": "https://localhost:8080/"
        }
      },
      "source": [
        "!pip install /content/CS336.L11/Do_an_cuoi_ki/import_file/underthesea-1.3.0.tar.gz"
      ],
      "execution_count": 4,
      "outputs": [
        {
          "output_type": "stream",
          "text": [
            "Processing ./CS336.L11/Do_an_cuoi_ki/import_file/underthesea-1.3.0.tar.gz\n",
            "Requirement already satisfied: Click>=6.0 in /usr/local/lib/python3.6/dist-packages (from underthesea==1.3.0) (7.1.2)\n",
            "Requirement already satisfied: python-crfsuite>=0.9.6 in /usr/local/lib/python3.6/dist-packages (from underthesea==1.3.0) (0.9.7)\n",
            "Requirement already satisfied: nltk in /usr/local/lib/python3.6/dist-packages (from underthesea==1.3.0) (3.2.5)\n",
            "Requirement already satisfied: tqdm in /usr/local/lib/python3.6/dist-packages (from underthesea==1.3.0) (4.41.1)\n",
            "Requirement already satisfied: requests in /usr/local/lib/python3.6/dist-packages (from underthesea==1.3.0) (2.23.0)\n",
            "Requirement already satisfied: joblib in /usr/local/lib/python3.6/dist-packages (from underthesea==1.3.0) (1.0.0)\n",
            "Requirement already satisfied: scikit-learn<0.22,>=0.20 in /usr/local/lib/python3.6/dist-packages (from underthesea==1.3.0) (0.21.3)\n",
            "Requirement already satisfied: unidecode in /usr/local/lib/python3.6/dist-packages (from underthesea==1.3.0) (1.1.2)\n",
            "Requirement already satisfied: seqeval in /usr/local/lib/python3.6/dist-packages (from underthesea==1.3.0) (1.2.2)\n",
            "Requirement already satisfied: PyYAML in /usr/local/lib/python3.6/dist-packages (from underthesea==1.3.0) (3.13)\n",
            "Requirement already satisfied: torch<=1.5.1,>=1.1.0 in /usr/local/lib/python3.6/dist-packages (from underthesea==1.3.0) (1.5.1)\n",
            "Requirement already satisfied: transformers<=3.5.1,>=3.5.0 in /usr/local/lib/python3.6/dist-packages (from underthesea==1.3.0) (3.5.1)\n",
            "Requirement already satisfied: six in /usr/local/lib/python3.6/dist-packages (from nltk->underthesea==1.3.0) (1.15.0)\n",
            "Requirement already satisfied: idna<3,>=2.5 in /usr/local/lib/python3.6/dist-packages (from requests->underthesea==1.3.0) (2.10)\n",
            "Requirement already satisfied: urllib3!=1.25.0,!=1.25.1,<1.26,>=1.21.1 in /usr/local/lib/python3.6/dist-packages (from requests->underthesea==1.3.0) (1.24.3)\n",
            "Requirement already satisfied: chardet<4,>=3.0.2 in /usr/local/lib/python3.6/dist-packages (from requests->underthesea==1.3.0) (3.0.4)\n",
            "Requirement already satisfied: certifi>=2017.4.17 in /usr/local/lib/python3.6/dist-packages (from requests->underthesea==1.3.0) (2020.12.5)\n",
            "Requirement already satisfied: numpy>=1.11.0 in /usr/local/lib/python3.6/dist-packages (from scikit-learn<0.22,>=0.20->underthesea==1.3.0) (1.19.4)\n",
            "Requirement already satisfied: scipy>=0.17.0 in /usr/local/lib/python3.6/dist-packages (from scikit-learn<0.22,>=0.20->underthesea==1.3.0) (1.4.1)\n",
            "Requirement already satisfied: future in /usr/local/lib/python3.6/dist-packages (from torch<=1.5.1,>=1.1.0->underthesea==1.3.0) (0.16.0)\n",
            "Requirement already satisfied: tokenizers==0.9.3 in /usr/local/lib/python3.6/dist-packages (from transformers<=3.5.1,>=3.5.0->underthesea==1.3.0) (0.9.3)\n",
            "Requirement already satisfied: packaging in /usr/local/lib/python3.6/dist-packages (from transformers<=3.5.1,>=3.5.0->underthesea==1.3.0) (20.8)\n",
            "Requirement already satisfied: regex!=2019.12.17 in /usr/local/lib/python3.6/dist-packages (from transformers<=3.5.1,>=3.5.0->underthesea==1.3.0) (2019.12.20)\n",
            "Requirement already satisfied: sentencepiece==0.1.91 in /usr/local/lib/python3.6/dist-packages (from transformers<=3.5.1,>=3.5.0->underthesea==1.3.0) (0.1.91)\n",
            "Requirement already satisfied: sacremoses in /usr/local/lib/python3.6/dist-packages (from transformers<=3.5.1,>=3.5.0->underthesea==1.3.0) (0.0.43)\n",
            "Requirement already satisfied: protobuf in /usr/local/lib/python3.6/dist-packages (from transformers<=3.5.1,>=3.5.0->underthesea==1.3.0) (3.12.4)\n",
            "Requirement already satisfied: filelock in /usr/local/lib/python3.6/dist-packages (from transformers<=3.5.1,>=3.5.0->underthesea==1.3.0) (3.0.12)\n",
            "Requirement already satisfied: dataclasses; python_version < \"3.7\" in /usr/local/lib/python3.6/dist-packages (from transformers<=3.5.1,>=3.5.0->underthesea==1.3.0) (0.8)\n",
            "Requirement already satisfied: pyparsing>=2.0.2 in /usr/local/lib/python3.6/dist-packages (from packaging->transformers<=3.5.1,>=3.5.0->underthesea==1.3.0) (2.4.7)\n",
            "Requirement already satisfied: setuptools in /usr/local/lib/python3.6/dist-packages (from protobuf->transformers<=3.5.1,>=3.5.0->underthesea==1.3.0) (50.3.2)\n",
            "Building wheels for collected packages: underthesea\n",
            "  Building wheel for underthesea (setup.py) ... \u001b[?25l\u001b[?25hdone\n",
            "  Created wheel for underthesea: filename=underthesea-1.3.0-cp36-none-any.whl size=7526579 sha256=6c4e13d7b06e8fd3ea57620fcf0c224ef6e871686b9769eadcc2739adf790246\n",
            "  Stored in directory: /root/.cache/pip/wheels/5c/14/53/65fbacb0ee9f960be332affafd8d69657159cdc3faa7a38a43\n",
            "Successfully built underthesea\n",
            "Installing collected packages: underthesea\n",
            "  Found existing installation: underthesea 1.3.0\n",
            "    Uninstalling underthesea-1.3.0:\n",
            "      Successfully uninstalled underthesea-1.3.0\n",
            "Successfully installed underthesea-1.3.0\n"
          ],
          "name": "stdout"
        }
      ]
    },
    {
      "cell_type": "markdown",
      "metadata": {
        "id": "PPyZ2uqcLDZx"
      },
      "source": [
        "# **import thư viện**"
      ]
    },
    {
      "cell_type": "code",
      "metadata": {
        "id": "Sb4s9PjW8bkk"
      },
      "source": [
        "from glob import glob\r\n",
        "import pandas as pd\r\n",
        "import pickle\r\n",
        "import re\r\n",
        "import string\r\n",
        "import numpy as np\r\n",
        "from underthesea import word_tokenize\r\n",
        "from sklearn.feature_extraction.text import TfidfVectorizer\r\n",
        "import sys\r\n",
        "sys.path.insert(1, '/content/CS336.L11/Do_an_cuoi_ki/import_file')\r\n",
        "import create_tfidf"
      ],
      "execution_count": 5,
      "outputs": []
    },
    {
      "cell_type": "markdown",
      "metadata": {
        "id": "JiLkwO0cLH0q"
      },
      "source": [
        "# **load đường dẫn file**"
      ]
    },
    {
      "cell_type": "code",
      "metadata": {
        "id": "D10nJorpxAHX"
      },
      "source": [
        "# unzip data\r\n",
        "import zipfile\r\n",
        "with zipfile.ZipFile(\"/content/CS336.L11/Do_an_cuoi_ki/dataset_football/bong_da_v3.zip\", 'r') as zip_ref:\r\n",
        "    zip_ref.extractall(\"/content/CS336.L11/Do_an_cuoi_ki/dataset_football/\")\r\n",
        "# load dataset\r\n",
        "files_path = glob(\"/content/CS336.L11/Do_an_cuoi_ki/dataset_football/Bong Da/*/*.txt\")"
      ],
      "execution_count": 6,
      "outputs": []
    },
    {
      "cell_type": "code",
      "metadata": {
        "id": "L1JD1j9OcqNm"
      },
      "source": [
        "# print(files_path)"
      ],
      "execution_count": null,
      "outputs": []
    },
    {
      "cell_type": "markdown",
      "metadata": {
        "id": "XBCIAlQSLMgQ"
      },
      "source": [
        "# **load tfidf file**"
      ]
    },
    {
      "cell_type": "code",
      "metadata": {
        "id": "H_ckfaXW079M"
      },
      "source": [
        "# unzip data\r\n",
        "import zipfile\r\n",
        "with zipfile.ZipFile(\"/content/CS336.L11/Do_an_cuoi_ki/dataset_tfidf/tfidf_vector.zip\", 'r') as zip_ref:\r\n",
        "    zip_ref.extractall(\"/content/CS336.L11/Do_an_cuoi_ki/dataset_tfidf/\")\r\n",
        "# load data from gg drive \r\n",
        "df_tfidf = pd.read_csv('/content/CS336.L11/Do_an_cuoi_ki/dataset_tfidf/tfidf_vector.csv', index_col=0)"
      ],
      "execution_count": null,
      "outputs": []
    },
    {
      "cell_type": "code",
      "metadata": {
        "id": "Lqek2H25cs0K"
      },
      "source": [
        "# print(df_tfidf)"
      ],
      "execution_count": null,
      "outputs": []
    },
    {
      "cell_type": "markdown",
      "metadata": {
        "id": "JFE_gyl_LQCK"
      },
      "source": [
        "# **load model vectorizer** "
      ]
    },
    {
      "cell_type": "code",
      "metadata": {
        "id": "vBQtfu781HUJ"
      },
      "source": [
        "# load vectorizer\r\n",
        "vectorizer = pickle.load(open('/content/CS336.L11/Do_an_cuoi_ki/dataset_tfidf/vectorizer.pk', 'rb'))"
      ],
      "execution_count": null,
      "outputs": []
    },
    {
      "cell_type": "markdown",
      "metadata": {
        "id": "U4EPqICELSwO"
      },
      "source": [
        "# **hàm chính** "
      ]
    },
    {
      "cell_type": "markdown",
      "metadata": {
        "id": "CWcGjSw3LVlg"
      },
      "source": [
        "## *Nhập câu truy vấn và thực hiện truy vấn*"
      ]
    },
    {
      "cell_type": "code",
      "metadata": {
        "id": "wkz5h4NL7_f5"
      },
      "source": [
        "# câu truy vấn\r\n",
        "query = 'barcelona'\r\n",
        "# tiền xử lí câu truy vấn\r\n",
        "query = create_tfidf.text_preprocess(query)\r\n",
        "# gọi hàm truy vấn\r\n",
        "sim_sorted = create_tfidf.get_similar_articles(query,df_tfidf,vectorizer)"
      ],
      "execution_count": null,
      "outputs": []
    },
    {
      "cell_type": "markdown",
      "metadata": {
        "id": "i8WpZ4tpLa2U"
      },
      "source": [
        "## *Xuất kết quả truy vấn*"
      ]
    },
    {
      "cell_type": "code",
      "metadata": {
        "id": "p-LRqP1O_-Hn",
        "colab": {
          "base_uri": "https://localhost:8080/"
        },
        "outputId": "c0644249-afbc-4303-e269-cb630d4c83b3"
      },
      "source": [
        "# số lượng bài viết tìm được\r\n",
        "rank = 10\r\n",
        "now = 0\r\n",
        "\r\n",
        "# in kết quả truy vấn được\r\n",
        "for k, v in sim_sorted:\r\n",
        "  print(\"Độ tương đồng: \", v)\r\n",
        "  # print(\"Tiêu đề: \", files_name[k])\r\n",
        "  print(files_path[k])\r\n",
        "  now += 1\r\n",
        "  if (now == rank):\r\n",
        "    break"
      ],
      "execution_count": null,
      "outputs": [
        {
          "output_type": "stream",
          "text": [
            "Độ tương đồng:  0.2173394309208078\n",
            "/content/CS336.L11/Do_an_cuoi_ki/dataset_football/Bong Da/Tây Ban Nha/Guardiola được nhắm đưa về để _cứu_ Barca.txt\n",
            "Độ tương đồng:  0.20287261288742134\n",
            "/content/CS336.L11/Do_an_cuoi_ki/dataset_football/Bong Da/Tây Ban Nha/Với Real, El Clasico  là một... _phiên tòa_.txt\n",
            "Độ tương đồng:  0.17597054697633088\n",
            "/content/CS336.L11/Do_an_cuoi_ki/dataset_football/Bong Da/Tây Ban Nha/Barca khủng hoảng tài chính do Messi nhiều hơn do Covid-19.txt\n",
            "Độ tương đồng:  0.15743961046116814\n",
            "/content/CS336.L11/Do_an_cuoi_ki/dataset_football/Bong Da/Champions League/Koeman vs Pirlo_ Chỉ là bóng đá thôi mà!.txt\n",
            "Độ tương đồng:  0.14588722669930643\n",
            "/content/CS336.L11/Do_an_cuoi_ki/dataset_football/Bong Da/Tây Ban Nha/Zidane chưa từng thua tại Nou Camp ở El Clasico.txt\n",
            "Độ tương đồng:  0.12673571911561704\n",
            "/content/CS336.L11/Do_an_cuoi_ki/dataset_football/Bong Da/Tây Ban Nha/_Messi đang rất khó chịu tại Barca_.txt\n",
            "Độ tương đồng:  0.11290587867764058\n",
            "/content/CS336.L11/Do_an_cuoi_ki/dataset_football/Bong Da/Tây Ban Nha/Messi bị ví như _căn bệnh ung thư_ ở Barca.txt\n",
            "Độ tương đồng:  0.10090518300674782\n",
            "/content/CS336.L11/Do_an_cuoi_ki/dataset_football/Bong Da/Pháp/HLV Tuchel chèo kéo Messi đến PSG sau thất bại ở chung kết Champions League.txt\n",
            "Độ tương đồng:  0.09687091723552997\n",
            "/content/CS336.L11/Do_an_cuoi_ki/dataset_football/Bong Da/Tây Ban Nha/Messi cười khẩy khi bị thầy cũ Setien quở trách.txt\n",
            "Độ tương đồng:  0.09362991437347738\n",
            "/content/CS336.L11/Do_an_cuoi_ki/dataset_football/Bong Da/Tây Ban Nha/La Liga có dám phạt Messi vì hành động đá bóng vào trọng tài_.txt\n"
          ],
          "name": "stdout"
        }
      ]
    }
  ]
}