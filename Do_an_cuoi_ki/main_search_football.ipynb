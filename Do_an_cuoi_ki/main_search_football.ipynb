{
  "nbformat": 4,
  "nbformat_minor": 0,
  "metadata": {
    "colab": {
      "name": "main_search_football.ipynb",
      "provenance": [],
      "include_colab_link": true
    },
    "kernelspec": {
      "name": "python3",
      "display_name": "Python 3"
    }
  },
  "cells": [
    {
      "cell_type": "markdown",
      "metadata": {
        "id": "view-in-github",
        "colab_type": "text"
      },
      "source": [
        "<a href=\"https://colab.research.google.com/github/Hoangthang017/CS336.L11/blob/master/Do_an_cuoi_ki/main_search_football.ipynb\" target=\"_parent\"><img src=\"https://colab.research.google.com/assets/colab-badge.svg\" alt=\"Open In Colab\"/></a>"
      ]
    },
    {
      "cell_type": "code",
      "metadata": {
        "id": "GYrw1nVzvNjD"
      },
      "source": [
        "# clone github\r\n",
        "!git clone https://github.com/Hoangthang017/CS336.L11.git\r\n",
        "!pip install underthesea"
      ],
      "execution_count": null,
      "outputs": []
    },
    {
      "cell_type": "code",
      "metadata": {
        "id": "Sb4s9PjW8bkk"
      },
      "source": [
        "from glob import glob\r\n",
        "import pandas as pd\r\n",
        "import pickle\r\n",
        "import re\r\n",
        "import string\r\n",
        "import numpy as np\r\n",
        "from underthesea import word_tokenize"
      ],
      "execution_count": 21,
      "outputs": []
    },
    {
      "cell_type": "code",
      "metadata": {
        "id": "D10nJorpxAHX"
      },
      "source": [
        "# unzip data\r\n",
        "import zipfile\r\n",
        "with zipfile.ZipFile(\"/content/CS336.L11/Dataset_Football/bong_da_v1.zip\", 'r') as zip_ref:\r\n",
        "    zip_ref.extractall(\"/content/CS336.L11/Do_an_cuoi_ki/dataset_football/\")\r\n",
        "# load dataset\r\n",
        "files_path = glob(\"/content/CS336.L11/Do_an_cuoi_ki/dataset_football/Bong Da/*/*.txt\")"
      ],
      "execution_count": 3,
      "outputs": []
    },
    {
      "cell_type": "code",
      "metadata": {
        "id": "H_ckfaXW079M"
      },
      "source": [
        "# unzip data\r\n",
        "import zipfile\r\n",
        "with zipfile.ZipFile(\"/content/CS336.L11/Do_an_cuoi_ki/dataset_tfidf/tfidf_vector.zip\", 'r') as zip_ref:\r\n",
        "    zip_ref.extractall(\"/content/CS336.L11/Do_an_cuoi_ki/dataset_tfidf/\")\r\n",
        "# load data from gg drive \r\n",
        "df_tfidf = pd.read_csv('/content/CS336.L11/Do_an_cuoi_ki/dataset_tfidf/tfidf_vector.csv', index_col=0)"
      ],
      "execution_count": 7,
      "outputs": []
    },
    {
      "cell_type": "code",
      "metadata": {
        "id": "vBQtfu781HUJ"
      },
      "source": [
        "# load vectorizer\r\n",
        "vec = open('/content/CS336.L11/Do_an_cuoi_ki/dataset_tfidf/vectorizer.pk', 'rb')\r\n",
        "vectorizer = pickle.load(vec)\r\n",
        "vec.close()"
      ],
      "execution_count": 10,
      "outputs": []
    },
    {
      "cell_type": "code",
      "metadata": {
        "id": "8NEuJ18u1GtI"
      },
      "source": [
        "# import sys\r\n",
        "# sys.path.insert(1, '/content/CS336.L11/Do_an_cuoi_ki')"
      ],
      "execution_count": null,
      "outputs": []
    },
    {
      "cell_type": "code",
      "metadata": {
        "id": "j2i1KtXj_hGF"
      },
      "source": [
        "# hàm tiền xử lí văn bản\r\n",
        "def text_preprocess(document):\r\n",
        "  # loại bỏ html nếu có\r\n",
        "  document_test = re.sub(r'@\\w+', '', document)\r\n",
        "\r\n",
        "  # viết thường tất cả \r\n",
        "  document_test = document_test.lower()\r\n",
        "\r\n",
        "  # bỏ dấu câu \r\n",
        "  document_test = re.sub(r'[%s]' % re.escape(string.punctuation), ' ', document_test)\r\n",
        "\r\n",
        "  # thay tern v_league\r\n",
        "  document_test = word_tokenize(document_test,\"text\").replace(\"v league\",\"v_league\")\r\n",
        "  \r\n",
        "  # xóa bỏ các khoảng trắng thừa \r\n",
        "  document_test = re.sub(r'\\s{2,}', ' ', document_test)\r\n",
        "\r\n",
        "  return document_test"
      ],
      "execution_count": 11,
      "outputs": []
    },
    {
      "cell_type": "code",
      "metadata": {
        "id": "Wkr48PdR73Co"
      },
      "source": [
        "def get_similar_articles(q, df, files_path, vectorizer):\r\n",
        "  print(\"Câu truy vấn:\", q)\r\n",
        "  # tiền xử lí câu truy vấn\r\n",
        "  q = [text_preprocess(q)]\r\n",
        "  q_vec = vectorizer.transform(q).toarray().reshape(df.shape[0],)\r\n",
        "  # print(q_vec)\r\n",
        "\r\n",
        "  sim = {}\r\n",
        "  # tính toán độ tương đồng\r\n",
        "  for i in range(len(files_path)):\r\n",
        "    sim[i] = np.dot(df.loc[:, i].values, q_vec) / np.linalg.norm(df.loc[:, i]) * np.linalg.norm(q_vec)\r\n",
        "  # print('độ dài ', len(sim))\r\n",
        "\r\n",
        "  # sắp xếp độ tương đồng\r\n",
        "  sim_sorted = sorted(sim.items(), key=lambda x: x[1], reverse=True)\r\n",
        "  # print(type(sim_sorted))\r\n",
        "\r\n",
        "  # số lượng bài viết tìm được\r\n",
        "  rank = 10\r\n",
        "  now = 0\r\n",
        "\r\n",
        "  # in kết quả truy vấn được\r\n",
        "  for k, v in sim_sorted:\r\n",
        "    print(\"Độ tương đồng: \", v)\r\n",
        "    print(\"Tiêu đề: \", files_name[k])\r\n",
        "    print(files_path[k])\r\n",
        "    now += 1\r\n",
        "    if (now == rank):\r\n",
        "      break"
      ],
      "execution_count": 23,
      "outputs": []
    },
    {
      "cell_type": "code",
      "metadata": {
        "id": "wkz5h4NL7_f5"
      },
      "source": [
        "# câu truy vấn\r\n",
        "q = 'barcelona'\r\n",
        "# gọi hàm truy vấn\r\n",
        "get_similar_articles(q,df_tfidf,files_path,vectorizer)"
      ],
      "execution_count": null,
      "outputs": []
    },
    {
      "cell_type": "code",
      "metadata": {
        "id": "p-LRqP1O_-Hn"
      },
      "source": [
        ""
      ],
      "execution_count": null,
      "outputs": []
    }
  ]
}