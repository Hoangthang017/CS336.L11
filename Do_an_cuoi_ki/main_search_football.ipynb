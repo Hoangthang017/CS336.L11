{
  "nbformat": 4,
  "nbformat_minor": 0,
  "metadata": {
    "colab": {
      "name": "main_search_football.ipynb",
      "provenance": [],
      "include_colab_link": true
    },
    "kernelspec": {
      "name": "python3",
      "display_name": "Python 3"
    }
  },
  "cells": [
    {
      "cell_type": "markdown",
      "metadata": {
        "id": "view-in-github",
        "colab_type": "text"
      },
      "source": [
        "<a href=\"https://colab.research.google.com/github/Hoangthang017/CS336.L11/blob/master/Do_an_cuoi_ki/main_search_football.ipynb\" target=\"_parent\"><img src=\"https://colab.research.google.com/assets/colab-badge.svg\" alt=\"Open In Colab\"/></a>"
      ]
    },
    {
      "cell_type": "markdown",
      "metadata": {
        "id": "ptZRH_ZULAAI"
      },
      "source": [
        "# **clone github**"
      ]
    },
    {
      "cell_type": "code",
      "metadata": {
        "id": "GYrw1nVzvNjD"
      },
      "source": [
        "# clone github\r\n",
        "!git clone https://github.com/Hoangthang017/CS336.L11.git\r\n",
        "!pip install underthesea"
      ],
      "execution_count": null,
      "outputs": []
    },
    {
      "cell_type": "markdown",
      "metadata": {
        "id": "PPyZ2uqcLDZx"
      },
      "source": [
        "# **import thư viện**"
      ]
    },
    {
      "cell_type": "code",
      "metadata": {
        "id": "Sb4s9PjW8bkk"
      },
      "source": [
        "from glob import glob\r\n",
        "import pandas as pd\r\n",
        "import pickle\r\n",
        "import re\r\n",
        "import string\r\n",
        "import numpy as np\r\n",
        "from underthesea import word_tokenize\r\n",
        "from sklearn.feature_extraction.text import TfidfVectorizer\r\n",
        "import sys\r\n",
        "sys.path.insert(1, '/content/CS336.L11/Do_an_cuoi_ki/import_file')\r\n",
        "import create_tfidf\r\n",
        "import os"
      ],
      "execution_count": 3,
      "outputs": []
    },
    {
      "cell_type": "markdown",
      "metadata": {
        "id": "JiLkwO0cLH0q"
      },
      "source": [
        "# **load đường dẫn file**"
      ]
    },
    {
      "cell_type": "code",
      "metadata": {
        "id": "D10nJorpxAHX"
      },
      "source": [
        "# unzip data\r\n",
        "import zipfile\r\n",
        "with zipfile.ZipFile(\"/content/CS336.L11/Do_an_cuoi_ki/dataset_football/bong_da_v3.zip\", 'r') as zip_ref:\r\n",
        "    zip_ref.extractall(\"/content/CS336.L11/Do_an_cuoi_ki/dataset_football/\")\r\n",
        "# load dataset\r\n",
        "files_path = glob(\"/content/CS336.L11/Do_an_cuoi_ki/dataset_football/Bong Da/*/*.txt\")"
      ],
      "execution_count": 4,
      "outputs": []
    },
    {
      "cell_type": "code",
      "metadata": {
        "id": "eg1y1kmjKAHO"
      },
      "source": [
        "files_name = pd.read_csv('/content/CS336.L11/Do_an_cuoi_ki/dataset_tfidf/files_name.csv')\r\n",
        "files_name = files_name['0']"
      ],
      "execution_count": 5,
      "outputs": []
    },
    {
      "cell_type": "code",
      "metadata": {
        "id": "L1JD1j9OcqNm"
      },
      "source": [
        "print(files_path)\r\n",
        "print(files_name)"
      ],
      "execution_count": null,
      "outputs": []
    },
    {
      "cell_type": "markdown",
      "metadata": {
        "id": "XBCIAlQSLMgQ"
      },
      "source": [
        "# **load tfidf file**"
      ]
    },
    {
      "cell_type": "code",
      "metadata": {
        "id": "H_ckfaXW079M"
      },
      "source": [
        "# unzip data\r\n",
        "import zipfile\r\n",
        "with zipfile.ZipFile(\"/content/CS336.L11/Do_an_cuoi_ki/dataset_tfidf/tfidf_vector.zip\", 'r') as zip_ref:\r\n",
        "    zip_ref.extractall(\"/content/CS336.L11/Do_an_cuoi_ki/dataset_tfidf/\")\r\n",
        "# load data from gg drive \r\n",
        "df_tfidf = pd.read_csv('/content/CS336.L11/Do_an_cuoi_ki/dataset_tfidf/tfidf_vector.csv', index_col=0)"
      ],
      "execution_count": 7,
      "outputs": []
    },
    {
      "cell_type": "code",
      "metadata": {
        "id": "Lqek2H25cs0K"
      },
      "source": [
        "# print(len(df_tfidf))"
      ],
      "execution_count": null,
      "outputs": []
    },
    {
      "cell_type": "markdown",
      "metadata": {
        "id": "JFE_gyl_LQCK"
      },
      "source": [
        "# **load model vectorizer** "
      ]
    },
    {
      "cell_type": "code",
      "metadata": {
        "id": "vBQtfu781HUJ"
      },
      "source": [
        "# load vectorizer\r\n",
        "vectorizer = pickle.load(open('/content/CS336.L11/Do_an_cuoi_ki/dataset_tfidf/vectorizer.pk', 'rb'))"
      ],
      "execution_count": 8,
      "outputs": []
    },
    {
      "cell_type": "markdown",
      "metadata": {
        "id": "U4EPqICELSwO"
      },
      "source": [
        "# **hàm chính** "
      ]
    },
    {
      "cell_type": "markdown",
      "metadata": {
        "id": "CWcGjSw3LVlg"
      },
      "source": [
        "## *Nhập câu truy vấn và thực hiện truy vấn*"
      ]
    },
    {
      "cell_type": "code",
      "metadata": {
        "id": "wkz5h4NL7_f5"
      },
      "source": [
        "# câu truy vấn\r\n",
        "query = input(\"Nhập câu truy vấn : \")\r\n",
        "# tiền xử lí câu truy vấn\r\n",
        "query = create_tfidf.text_preprocess(query)\r\n",
        "# gọi hàm truy vấn\r\n",
        "sim_sorted = create_tfidf.get_similar_articles(query,df_tfidf,vectorizer)"
      ],
      "execution_count": null,
      "outputs": []
    },
    {
      "cell_type": "markdown",
      "metadata": {
        "id": "i8WpZ4tpLa2U"
      },
      "source": [
        "## *Xuất kết quả truy vấn*"
      ]
    },
    {
      "cell_type": "code",
      "metadata": {
        "id": "p-LRqP1O_-Hn",
        "colab": {
          "base_uri": "https://localhost:8080/"
        },
        "outputId": "074317c6-4129-4dc8-db16-a1fccd136713"
      },
      "source": [
        "# số lượng bài viết tìm được\r\n",
        "rank = 10\r\n",
        "now = 0\r\n",
        "print(\"Câu truy vấn : \",query.upper())\r\n",
        "print()\r\n",
        "# in kết quả truy vấn được\r\n",
        "for k, v in sim_sorted:\r\n",
        "  print(\"Độ tương đồng: \", v)\r\n",
        "  print(\"Tiêu đề: \", files_name[k].replace(\".txt\",\"\").upper())\r\n",
        "  file_path = create_tfidf.find_file_path(files_name[k],files_path)\r\n",
        "  print(create_tfidf.get_content(file_path))\r\n",
        "  print()\r\n",
        "  now += 1\r\n",
        "  if (now == rank):\r\n",
        "    break"
      ],
      "execution_count": 25,
      "outputs": [
        {
          "output_type": "stream",
          "text": [
            "Câu truy vấn :  CHUYỂN_NHƯỢNG BARCA\n",
            "\n",
            "Độ tương đồng:  0.23814305459246893\n",
            "Tiêu đề:  BARCA VÀ HÀNG LOẠT TÌNH TIẾT KHÔNG NGỜ LIÊN QUAN ĐẾN THƯƠNG VỤ MARTINEZ\n",
            "/content/CS336.L11/Do_an_cuoi_ki/dataset_football/Bong Da/Italya/Barca và hàng loạt tình tiết không ngờ liên quan đến thương vụ Martinez.txt\n",
            "\n",
            "Độ tương đồng:  0.20707299357174838\n",
            "Tiêu đề:  THUA TRẮNG 5 BÀN, NẠN NHÂN CỦA BAYERN MUNICH GỬI THÔNG ĐIỆP CHÍ MẠNG ĐẾN BARCELONA\n",
            "/content/CS336.L11/Do_an_cuoi_ki/dataset_football/Bong Da/Hậu trường/Thua trắng 5 bàn, nạn nhân của Bayern Munich gửi thông điệp chí mạng đến Barcelona.txt\n",
            "\n",
            "Độ tương đồng:  0.17295887523679582\n",
            "Tiêu đề:  DIỄN BIẾN 10 THƯƠNG VỤ HÀNG ĐẦU TRÊN TTCN HÈ 2019  CHẤN ĐỘNG NÀO TIẾP THEO\n",
            "/content/CS336.L11/Do_an_cuoi_ki/dataset_football/Bong Da/Italya/Diễn biến 10 thương vụ hàng đầu trên TTCN hè 2019  Chấn động nào tiếp theo.txt\n",
            "\n",
            "Độ tương đồng:  0.15998144686394614\n",
            "Tiêu đề:  THAY MESSI  CỨU  CLB, GRIEZMANN GIÚP BARCA GIÀNH LỢI THẾ TRƯỚC NAPOLI\n",
            "/content/CS336.L11/Do_an_cuoi_ki/dataset_football/Bong Da/Italya/Thay Messi  cứu  CLB, Griezmann giúp Barca giành lợi thế trước Napoli.txt\n",
            "\n",
            "Độ tương đồng:  0.05537025492675106\n",
            "Tiêu đề:  4 TIỀN ĐẠO TÊN TUỔI GÂY THẤT VỌNG NHẤT CHÂU ÂU HIỆN TẠI\n",
            "/content/CS336.L11/Do_an_cuoi_ki/dataset_football/Bong Da/Italya/4 tiền đạo tên tuổi gây thất vọng nhất châu Âu hiện tại.txt\n",
            "\n",
            "Độ tương đồng:  0.04696565109388347\n",
            "Tiêu đề:  ASHLEY YOUNG SẮP KÝ HỢP ĐỒNG MỚI\n",
            "/content/CS336.L11/Do_an_cuoi_ki/dataset_football/Bong Da/Italya/Ashley Young sắp ký hợp đồng mới.txt\n",
            "\n",
            "Độ tương đồng:  0.03201980533709786\n",
            "Tiêu đề:  THẦY CŨ CỦA CONTE  “INTER MILAN MUỐN VÔ ĐỊCH NHƯNG NAPOLI…”\n",
            "/content/CS336.L11/Do_an_cuoi_ki/dataset_football/Bong Da/Italya/Thầy cũ của Conte  “Inter Milan muốn vô địch nhưng Napoli…”.txt\n",
            "\n",
            "Độ tương đồng:  0.029190445478377257\n",
            "Tiêu đề:  ĐỘI TRƯỞNG JUVENTUS CHỈ RA 3 ỨNG CỬ VIÊN CHO CHỨC VÔ ĐỊCH SERIE A\n",
            "/content/CS336.L11/Do_an_cuoi_ki/dataset_football/Bong Da/Italya/Đội trưởng Juventus chỉ ra 3 ứng cử viên cho chức vô địch Serie A.txt\n",
            "\n",
            "Độ tương đồng:  0.018587029644347\n",
            "Tiêu đề:  CÓ ASHLEY YOUNG VÀ VICTOR MOSES, INTER MILAN SẼ THAY ĐỔI RA SAO\n",
            "/content/CS336.L11/Do_an_cuoi_ki/dataset_football/Bong Da/Italya/Có Ashley Young và Victor Moses, Inter Milan sẽ thay đổi ra sao.txt\n",
            "\n",
            "Độ tương đồng:  0.0\n",
            "Tiêu đề:  KHÔNG NHIỀU NGƯỜI CÓ THỂ LÀM ĐƯỢC NHƯ CỰU SAO MAN CITY ĐÓ\n",
            "/content/CS336.L11/Do_an_cuoi_ki/dataset_football/Bong Da/Italya/Không nhiều người có thể làm được như cựu sao Man City đó.txt\n",
            "\n"
          ],
          "name": "stdout"
        }
      ]
    },
    {
      "cell_type": "code",
      "metadata": {
        "id": "LtZV6wYCHH7y"
      },
      "source": [
        ""
      ],
      "execution_count": null,
      "outputs": []
    }
  ]
}