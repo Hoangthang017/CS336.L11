{
  "nbformat": 4,
  "nbformat_minor": 0,
  "metadata": {
    "colab": {
      "name": "main_search_football.ipynb",
      "provenance": [],
      "toc_visible": true,
      "include_colab_link": true
    },
    "kernelspec": {
      "name": "python3",
      "display_name": "Python 3"
    }
  },
  "cells": [
    {
      "cell_type": "markdown",
      "metadata": {
        "id": "view-in-github",
        "colab_type": "text"
      },
      "source": [
        "<a href=\"https://colab.research.google.com/github/Hoangthang017/CS336.L11/blob/master/Do_an_cuoi_ki/main_search_football.ipynb\" target=\"_parent\"><img src=\"https://colab.research.google.com/assets/colab-badge.svg\" alt=\"Open In Colab\"/></a>"
      ]
    },
    {
      "cell_type": "markdown",
      "metadata": {
        "id": "ptZRH_ZULAAI"
      },
      "source": [
        "# **clone github**"
      ]
    },
    {
      "cell_type": "code",
      "metadata": {
        "id": "GYrw1nVzvNjD"
      },
      "source": [
        "# clone github\r\n",
        "!git clone https://github.com/Hoangthang017/CS336.L11.git\r\n",
        "!pip install underthesea"
      ],
      "execution_count": null,
      "outputs": []
    },
    {
      "cell_type": "markdown",
      "metadata": {
        "id": "PPyZ2uqcLDZx"
      },
      "source": [
        "# **import thư viện**"
      ]
    },
    {
      "cell_type": "code",
      "metadata": {
        "id": "Sb4s9PjW8bkk"
      },
      "source": [
        "from glob import glob\r\n",
        "import pandas as pd\r\n",
        "import pickle\r\n",
        "import re\r\n",
        "import string\r\n",
        "import numpy as np\r\n",
        "from underthesea import word_tokenize\r\n",
        "from sklearn.feature_extraction.text import TfidfVectorizer\r\n",
        "import sys\r\n",
        "sys.path.insert(1, '/content/CS336.L11/Do_an_cuoi_ki/import_file')\r\n",
        "import create_tfidf\r\n",
        "import os"
      ],
      "execution_count": 20,
      "outputs": []
    },
    {
      "cell_type": "markdown",
      "metadata": {
        "id": "JiLkwO0cLH0q"
      },
      "source": [
        "# **load đường dẫn file**"
      ]
    },
    {
      "cell_type": "code",
      "metadata": {
        "id": "D10nJorpxAHX"
      },
      "source": [
        "# unzip data\r\n",
        "import zipfile\r\n",
        "with zipfile.ZipFile(\"/content/CS336.L11/Do_an_cuoi_ki/dataset_football/bong_da_v3.zip\", 'r') as zip_ref:\r\n",
        "    zip_ref.extractall(\"/content/CS336.L11/Do_an_cuoi_ki/dataset_football/\")\r\n",
        "# load dataset\r\n",
        "files_path = glob(\"/content/CS336.L11/Do_an_cuoi_ki/dataset_football/Bong Da/*/*.txt\")"
      ],
      "execution_count": 21,
      "outputs": []
    },
    {
      "cell_type": "code",
      "metadata": {
        "id": "L1JD1j9OcqNm"
      },
      "source": [
        "# print(files_path)"
      ],
      "execution_count": 22,
      "outputs": []
    },
    {
      "cell_type": "markdown",
      "metadata": {
        "id": "XBCIAlQSLMgQ"
      },
      "source": [
        "# **load tfidf file**"
      ]
    },
    {
      "cell_type": "code",
      "metadata": {
        "id": "H_ckfaXW079M"
      },
      "source": [
        "# unzip data\r\n",
        "import zipfile\r\n",
        "with zipfile.ZipFile(\"/content/CS336.L11/Do_an_cuoi_ki/dataset_tfidf/tfidf_vector.zip\", 'r') as zip_ref:\r\n",
        "    zip_ref.extractall(\"/content/CS336.L11/Do_an_cuoi_ki/dataset_tfidf/\")\r\n",
        "# load data from gg drive \r\n",
        "df_tfidf = pd.read_csv('/content/CS336.L11/Do_an_cuoi_ki/dataset_tfidf/tfidf_vector.csv', index_col=0)"
      ],
      "execution_count": 23,
      "outputs": []
    },
    {
      "cell_type": "code",
      "metadata": {
        "id": "Lqek2H25cs0K"
      },
      "source": [
        "# print(len(df_tfidf))"
      ],
      "execution_count": 24,
      "outputs": []
    },
    {
      "cell_type": "markdown",
      "metadata": {
        "id": "JFE_gyl_LQCK"
      },
      "source": [
        "# **load model vectorizer** "
      ]
    },
    {
      "cell_type": "code",
      "metadata": {
        "id": "vBQtfu781HUJ"
      },
      "source": [
        "# load vectorizer\r\n",
        "vectorizer = pickle.load(open('/content/CS336.L11/Do_an_cuoi_ki/dataset_tfidf/vectorizer.pk', 'rb'))"
      ],
      "execution_count": 25,
      "outputs": []
    },
    {
      "cell_type": "markdown",
      "metadata": {
        "id": "U4EPqICELSwO"
      },
      "source": [
        "# **hàm chính** "
      ]
    },
    {
      "cell_type": "markdown",
      "metadata": {
        "id": "CWcGjSw3LVlg"
      },
      "source": [
        "## *Nhập câu truy vấn và thực hiện truy vấn*"
      ]
    },
    {
      "cell_type": "code",
      "metadata": {
        "id": "wkz5h4NL7_f5",
        "outputId": "9a18672d-912c-443e-a8ef-31c0bf33b48d",
        "colab": {
          "base_uri": "https://localhost:8080/"
        }
      },
      "source": [
        "# câu truy vấn\r\n",
        "query = 'quang hải'\r\n",
        "# tiền xử lí câu truy vấn\r\n",
        "query = create_tfidf.text_preprocess(query)\r\n",
        "# gọi hàm truy vấn\r\n",
        "sim_sorted = create_tfidf.get_similar_articles(query,df_tfidf,vectorizer)"
      ],
      "execution_count": 28,
      "outputs": [
        {
          "output_type": "stream",
          "text": [
            "/content/CS336.L11/Do_an_cuoi_ki/import_file/create_tfidf.py:64: RuntimeWarning: invalid value encountered in double_scalars\n",
            "  sim[i] = np.dot(df.loc[:, str(i)].values, q_vec) / np.linalg.norm(df.loc[:, str(i)]) * np.linalg.norm(q_vec)\n"
          ],
          "name": "stderr"
        }
      ]
    },
    {
      "cell_type": "markdown",
      "metadata": {
        "id": "i8WpZ4tpLa2U"
      },
      "source": [
        "## *Xuất kết quả truy vấn*"
      ]
    },
    {
      "cell_type": "code",
      "metadata": {
        "id": "p-LRqP1O_-Hn",
        "colab": {
          "base_uri": "https://localhost:8080/"
        },
        "outputId": "60745fa6-b89c-4474-a892-688fad53d2c2"
      },
      "source": [
        "# số lượng bài viết tìm được\r\n",
        "rank = 10\r\n",
        "now = 0\r\n",
        "\r\n",
        "# in kết quả truy vấn được\r\n",
        "for k, v in sim_sorted:\r\n",
        "  print(\"Độ tương đồng: \", v)\r\n",
        "  print(\"Tiêu đề: \", os.path.basename(files_path[k]).replace(\".txt\",\"\").upper())\r\n",
        "  print(files_path[k])\r\n",
        "  print()\r\n",
        "  now += 1\r\n",
        "  if (now == rank):\r\n",
        "    break"
      ],
      "execution_count": 29,
      "outputs": [
        {
          "output_type": "stream",
          "text": [
            "Độ tương đồng:  0.7677623798908582\n",
            "Tiêu đề:  QUANG HẢI 23 TUỔI Ở ĐÂU SO VỚI MINH PHƯƠNG, HỒNG SƠN\n",
            "/content/CS336.L11/Do_an_cuoi_ki/dataset_football/Bong Da/Việt Nam/Quang Hải 23 tuổi ở đâu so với Minh Phương, Hồng Sơn.txt\n",
            "\n",
            "Độ tương đồng:  0.7562957696734762\n",
            "Tiêu đề:  VÌ SAO QUANG HẢI KHỞI ĐẦU CHẬM CHẠP Ở V.LEAGUE 2020\n",
            "/content/CS336.L11/Do_an_cuoi_ki/dataset_football/Bong Da/Việt Nam/Vì sao Quang Hải khởi đầu chậm chạp ở V.League 2020.txt\n",
            "\n",
            "Độ tương đồng:  0.6697250194300541\n",
            "Tiêu đề:  QUANG HẢI, QUAY ĐẦU THÔI\n",
            "/content/CS336.L11/Do_an_cuoi_ki/dataset_football/Bong Da/Việt Nam/Quang Hải, quay đầu thôi.txt\n",
            "\n",
            "Độ tương đồng:  0.6002034535968178\n",
            "Tiêu đề:  QUANG HẢI ĐƯỢC ĐỘI NƯỚC NGOÀI MỜI ĐI THÌ RẤT TỐT NHƯNG....\n",
            "/content/CS336.L11/Do_an_cuoi_ki/dataset_football/Bong Da/Việt Nam/Quang Hải được đội nước ngoài mời đi thì rất tốt nhưng.....txt\n",
            "\n",
            "Độ tương đồng:  0.5849842114070123\n",
            "Tiêu đề:  CLB HÀ NỘI NHẬN HUNG TIN TỪ QUANG HẢI TRƯỚC TRẬN DERBY THỦ ĐÔ\n",
            "/content/CS336.L11/Do_an_cuoi_ki/dataset_football/Bong Da/Việt Nam/CLB Hà Nội nhận hung tin từ Quang Hải trước trận derby thủ đô.txt\n",
            "\n",
            "Độ tương đồng:  0.5632878464098329\n",
            "Tiêu đề:  QUANG HẢI LỘ TIN NHẮN  NHẠY CẢM , BẠN GÁI 9X NGAY LẬP TỨC LÀM 1 ĐIỀU\n",
            "/content/CS336.L11/Do_an_cuoi_ki/dataset_football/Bong Da/Việt Nam/Quang Hải lộ tin nhắn  nhạy cảm , bạn gái 9X ngay lập tức làm 1 điều.txt\n",
            "\n",
            "Độ tương đồng:  0.5632878464098329\n",
            "Tiêu đề:  QUANG HẢI LỘ TIN NHẮN  NHẠY CẢM , BẠN GÁI 9X NGAY LẬP TỨC LÀM 1 ĐIỀU\n",
            "/content/CS336.L11/Do_an_cuoi_ki/dataset_football/Bong Da/Hậu trường/Quang Hải lộ tin nhắn  nhạy cảm , bạn gái 9X ngay lập tức làm 1 điều.txt\n",
            "\n",
            "Độ tương đồng:  0.4885883334677359\n",
            "Tiêu đề:  ĐÃ RÕ LÝ DO VÌ SAO CÂU LẠC BỘ HÀ NỘI “NHỐT” QUANG HẢI TRÊN GHẾ DỰ BỊ\n",
            "/content/CS336.L11/Do_an_cuoi_ki/dataset_football/Bong Da/Việt Nam/Đã rõ lý do vì sao câu lạc bộ Hà Nội “nhốt” Quang Hải trên ghế dự bị.txt\n",
            "\n",
            "Độ tương đồng:  0.46769142814710474\n",
            "Tiêu đề:  NGUYỄN QUANG HẢI VÀ SCANDAL BỊ HACKER QUẤY RỐI  HOẠN NẠN MỚI BIẾT CHÂN TÌNH\n",
            "/content/CS336.L11/Do_an_cuoi_ki/dataset_football/Bong Da/Việt Nam/Nguyễn Quang Hải và scandal bị hacker quấy rối  Hoạn nạn mới biết chân tình.txt\n",
            "\n",
            "Độ tương đồng:  0.46769142814710474\n",
            "Tiêu đề:  NGUYỄN QUANG HẢI VÀ SCANDAL BỊ HACKER QUẤY RỐI  HOẠN NẠN MỚI BIẾT CHÂN TÌNH\n",
            "/content/CS336.L11/Do_an_cuoi_ki/dataset_football/Bong Da/Hậu trường/Nguyễn Quang Hải và scandal bị hacker quấy rối  Hoạn nạn mới biết chân tình.txt\n",
            "\n"
          ],
          "name": "stdout"
        }
      ]
    },
    {
      "cell_type": "code",
      "metadata": {
        "id": "LtZV6wYCHH7y"
      },
      "source": [
        ""
      ],
      "execution_count": 27,
      "outputs": []
    }
  ]
}