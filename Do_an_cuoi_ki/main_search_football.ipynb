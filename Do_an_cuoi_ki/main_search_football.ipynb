{
  "nbformat": 4,
  "nbformat_minor": 0,
  "metadata": {
    "colab": {
      "name": "main_search_football.ipynb",
      "provenance": [],
      "authorship_tag": "ABX9TyN51yTjtHrPw7TAd+egoEB6",
      "include_colab_link": true
    },
    "kernelspec": {
      "name": "python3",
      "display_name": "Python 3"
    }
  },
  "cells": [
    {
      "cell_type": "markdown",
      "metadata": {
        "id": "view-in-github",
        "colab_type": "text"
      },
      "source": [
        "<a href=\"https://colab.research.google.com/github/Hoangthang017/CS336.L11/blob/master/Do_an_cuoi_ki/main_search_football.ipynb\" target=\"_parent\"><img src=\"https://colab.research.google.com/assets/colab-badge.svg\" alt=\"Open In Colab\"/></a>"
      ]
    },
    {
      "cell_type": "code",
      "metadata": {
        "id": "Sb4s9PjW8bkk"
      },
      "source": [
        "from glob import glob"
      ],
      "execution_count": 10,
      "outputs": []
    },
    {
      "cell_type": "code",
      "metadata": {
        "id": "GYrw1nVzvNjD"
      },
      "source": [
        "# clone github\r\n",
        "!git clone https://github.com/Hoangthang017/CS336.L11.git\r\n",
        "!pip install underthesea"
      ],
      "execution_count": null,
      "outputs": []
    },
    {
      "cell_type": "code",
      "metadata": {
        "id": "D10nJorpxAHX"
      },
      "source": [
        "# unzip data\r\n",
        "import zipfile\r\n",
        "with zipfile.ZipFile(\"/content/CS336.L11/Dataset_Football/bong_da_v1.zip\", 'r') as zip_ref:\r\n",
        "    zip_ref.extractall(\"/content/CS336.L11/Do_an_cuoi_ki/dataset_football/\")\r\n",
        "# load dataset\r\n",
        "files_path = glob(\"/content/CS336.L11/Do_an_cuoi_ki/dataset_football/Bong Da/*/*.txt\")"
      ],
      "execution_count": 12,
      "outputs": []
    },
    {
      "cell_type": "code",
      "metadata": {
        "colab": {
          "base_uri": "https://localhost:8080/",
          "height": 346
        },
        "id": "H_ckfaXW079M",
        "outputId": "b379b71b-65f8-43bb-e1cd-f7022998f707"
      },
      "source": [
        "# unzip data\r\n",
        "import zipfile\r\n",
        "with zipfile.ZipFile(\"/content/CS336.L11/Dataset_Football/tfidf_vector.zip\", 'r') as zip_ref:\r\n",
        "    zip_ref.extractall(\"/content/CS336.L11/Dataset_Football/dataset_tfidf/\")\r\n",
        "# load data from gg drive \r\n",
        "df_tfidf = pd.read_csv('/content/CS336.L11/Dataset_Football/dataset_tfidf/tfidf_vector.csv', index_col=0)"
      ],
      "execution_count": 13,
      "outputs": [
        {
          "output_type": "error",
          "ename": "FileNotFoundError",
          "evalue": "ignored",
          "traceback": [
            "\u001b[0;31m---------------------------------------------------------------------------\u001b[0m",
            "\u001b[0;31mFileNotFoundError\u001b[0m                         Traceback (most recent call last)",
            "\u001b[0;32m<ipython-input-13-8d4e0fa845e9>\u001b[0m in \u001b[0;36m<module>\u001b[0;34m()\u001b[0m\n\u001b[1;32m      1\u001b[0m \u001b[0;31m# unzip data\u001b[0m\u001b[0;34m\u001b[0m\u001b[0;34m\u001b[0m\u001b[0;34m\u001b[0m\u001b[0m\n\u001b[1;32m      2\u001b[0m \u001b[0;32mimport\u001b[0m \u001b[0mzipfile\u001b[0m\u001b[0;34m\u001b[0m\u001b[0;34m\u001b[0m\u001b[0m\n\u001b[0;32m----> 3\u001b[0;31m \u001b[0;32mwith\u001b[0m \u001b[0mzipfile\u001b[0m\u001b[0;34m.\u001b[0m\u001b[0mZipFile\u001b[0m\u001b[0;34m(\u001b[0m\u001b[0;34m\"/content/CS336.L11/Dataset_Football/tfidf_vector.zip\"\u001b[0m\u001b[0;34m,\u001b[0m \u001b[0;34m'r'\u001b[0m\u001b[0;34m)\u001b[0m \u001b[0;32mas\u001b[0m \u001b[0mzip_ref\u001b[0m\u001b[0;34m:\u001b[0m\u001b[0;34m\u001b[0m\u001b[0;34m\u001b[0m\u001b[0m\n\u001b[0m\u001b[1;32m      4\u001b[0m     \u001b[0mzip_ref\u001b[0m\u001b[0;34m.\u001b[0m\u001b[0mextractall\u001b[0m\u001b[0;34m(\u001b[0m\u001b[0;34m\"/content/CS336.L11/Dataset_Football/dataset_tfidf/\"\u001b[0m\u001b[0;34m)\u001b[0m\u001b[0;34m\u001b[0m\u001b[0;34m\u001b[0m\u001b[0m\n\u001b[1;32m      5\u001b[0m \u001b[0;31m# load data from gg drive\u001b[0m\u001b[0;34m\u001b[0m\u001b[0;34m\u001b[0m\u001b[0;34m\u001b[0m\u001b[0m\n",
            "\u001b[0;32m/usr/lib/python3.6/zipfile.py\u001b[0m in \u001b[0;36m__init__\u001b[0;34m(self, file, mode, compression, allowZip64)\u001b[0m\n\u001b[1;32m   1111\u001b[0m             \u001b[0;32mwhile\u001b[0m \u001b[0;32mTrue\u001b[0m\u001b[0;34m:\u001b[0m\u001b[0;34m\u001b[0m\u001b[0;34m\u001b[0m\u001b[0m\n\u001b[1;32m   1112\u001b[0m                 \u001b[0;32mtry\u001b[0m\u001b[0;34m:\u001b[0m\u001b[0;34m\u001b[0m\u001b[0;34m\u001b[0m\u001b[0m\n\u001b[0;32m-> 1113\u001b[0;31m                     \u001b[0mself\u001b[0m\u001b[0;34m.\u001b[0m\u001b[0mfp\u001b[0m \u001b[0;34m=\u001b[0m \u001b[0mio\u001b[0m\u001b[0;34m.\u001b[0m\u001b[0mopen\u001b[0m\u001b[0;34m(\u001b[0m\u001b[0mfile\u001b[0m\u001b[0;34m,\u001b[0m \u001b[0mfilemode\u001b[0m\u001b[0;34m)\u001b[0m\u001b[0;34m\u001b[0m\u001b[0;34m\u001b[0m\u001b[0m\n\u001b[0m\u001b[1;32m   1114\u001b[0m                 \u001b[0;32mexcept\u001b[0m \u001b[0mOSError\u001b[0m\u001b[0;34m:\u001b[0m\u001b[0;34m\u001b[0m\u001b[0;34m\u001b[0m\u001b[0m\n\u001b[1;32m   1115\u001b[0m                     \u001b[0;32mif\u001b[0m \u001b[0mfilemode\u001b[0m \u001b[0;32min\u001b[0m \u001b[0mmodeDict\u001b[0m\u001b[0;34m:\u001b[0m\u001b[0;34m\u001b[0m\u001b[0;34m\u001b[0m\u001b[0m\n",
            "\u001b[0;31mFileNotFoundError\u001b[0m: [Errno 2] No such file or directory: '/content/CS336.L11/Dataset_Football/tfidf_vector.zip'"
          ]
        }
      ]
    },
    {
      "cell_type": "code",
      "metadata": {
        "colab": {
          "base_uri": "https://localhost:8080/",
          "height": 212
        },
        "id": "vBQtfu781HUJ",
        "outputId": "047bce7c-71ce-495e-febb-2f93283f09a4"
      },
      "source": [
        "# load vectorizer\r\n",
        "vec = open('/content/CS336.L11/Do_an_cuoi_ki/dataset_tfidf/vectorizer.pk', 'rb')\r\n",
        "vectorizer = pickle.load(vec)\r\n",
        "vec.close()"
      ],
      "execution_count": 14,
      "outputs": [
        {
          "output_type": "error",
          "ename": "FileNotFoundError",
          "evalue": "ignored",
          "traceback": [
            "\u001b[0;31m---------------------------------------------------------------------------\u001b[0m",
            "\u001b[0;31mFileNotFoundError\u001b[0m                         Traceback (most recent call last)",
            "\u001b[0;32m<ipython-input-14-3a9e0eebe1e5>\u001b[0m in \u001b[0;36m<module>\u001b[0;34m()\u001b[0m\n\u001b[1;32m      1\u001b[0m \u001b[0;31m# load vectorizer\u001b[0m\u001b[0;34m\u001b[0m\u001b[0;34m\u001b[0m\u001b[0;34m\u001b[0m\u001b[0m\n\u001b[0;32m----> 2\u001b[0;31m \u001b[0mvec\u001b[0m \u001b[0;34m=\u001b[0m \u001b[0mopen\u001b[0m\u001b[0;34m(\u001b[0m\u001b[0;34m'/content/CS336.L11/Do_an_cuoi_ki/dataset_tfidf/vectorizer.pk'\u001b[0m\u001b[0;34m,\u001b[0m \u001b[0;34m'rb'\u001b[0m\u001b[0;34m)\u001b[0m\u001b[0;34m\u001b[0m\u001b[0;34m\u001b[0m\u001b[0m\n\u001b[0m\u001b[1;32m      3\u001b[0m \u001b[0mvectorizer\u001b[0m \u001b[0;34m=\u001b[0m \u001b[0mpickle\u001b[0m\u001b[0;34m.\u001b[0m\u001b[0mload\u001b[0m\u001b[0;34m(\u001b[0m\u001b[0mvec\u001b[0m\u001b[0;34m)\u001b[0m\u001b[0;34m\u001b[0m\u001b[0;34m\u001b[0m\u001b[0m\n\u001b[1;32m      4\u001b[0m \u001b[0mvec\u001b[0m\u001b[0;34m.\u001b[0m\u001b[0mclose\u001b[0m\u001b[0;34m(\u001b[0m\u001b[0;34m)\u001b[0m\u001b[0;34m\u001b[0m\u001b[0;34m\u001b[0m\u001b[0m\n",
            "\u001b[0;31mFileNotFoundError\u001b[0m: [Errno 2] No such file or directory: '/content/CS336.L11/Do_an_cuoi_ki/dataset_tfidf/vectorizer.pk'"
          ]
        }
      ]
    },
    {
      "cell_type": "code",
      "metadata": {
        "id": "8NEuJ18u1GtI"
      },
      "source": [
        "# import sys\r\n",
        "# sys.path.insert(1, '/content/CS336.L11/Do_an_cuoi_ki')"
      ],
      "execution_count": null,
      "outputs": []
    },
    {
      "cell_type": "code",
      "metadata": {
        "id": "Wkr48PdR73Co"
      },
      "source": [
        "def get_similar_articles(q, df, files_path, vectorizer):\r\n",
        "  print(\"Câu truy vấn:\", q)\r\n",
        "  # tiền xử lí câu truy vấn\r\n",
        "  q = [text_preprocess(q)]\r\n",
        "  q_vec = vectorizer.transform(q).toarray().reshape(df.shape[0],)\r\n",
        "  # print(q_vec)\r\n",
        "\r\n",
        "  sim = {}\r\n",
        "  # tính toán độ tương đồng\r\n",
        "  for i in range(len(documents_clean)):\r\n",
        "    sim[i] = np.dot(df.loc[:, i].values, q_vec) / np.linalg.norm(df.loc[:, i]) * np.linalg.norm(q_vec)\r\n",
        "  # print('độ dài ', len(sim))\r\n",
        "\r\n",
        "  # sắp xếp độ tương đồng\r\n",
        "  sim_sorted = sorted(sim.items(), key=lambda x: x[1], reverse=True)\r\n",
        "  # print(type(sim_sorted))\r\n",
        "\r\n",
        "  # số lượng bài viết tìm được\r\n",
        "  rank = 10\r\n",
        "  now = 0\r\n",
        "\r\n",
        "  # in kết quả truy vấn được\r\n",
        "  for k, v in sim_sorted:\r\n",
        "    print(\"Độ tương đồng: \", v)\r\n",
        "    print(\"Tiêu đề: \", files_name[k])\r\n",
        "    print(files_path[k])\r\n",
        "    now += 1\r\n",
        "    if (now == rank):\r\n",
        "      break"
      ],
      "execution_count": null,
      "outputs": []
    },
    {
      "cell_type": "code",
      "metadata": {
        "id": "wkz5h4NL7_f5"
      },
      "source": [
        "# câu truy vấn\r\n",
        "q = 'barcelona'\r\n",
        "# gọi hàm truy vấn\r\n",
        "get_similar_articles(q,df_tfidf,files_path,vectorizer)"
      ],
      "execution_count": null,
      "outputs": []
    }
  ]
}