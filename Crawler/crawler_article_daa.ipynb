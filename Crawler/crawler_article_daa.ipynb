{
  "nbformat": 4,
  "nbformat_minor": 0,
  "metadata": {
    "colab": {
      "name": "crawler_article_daa.ipynb",
      "provenance": [],
      "toc_visible": true,
      "authorship_tag": "ABX9TyOjCfEmbt1oLeuUC1hcewxq",
      "include_colab_link": true
    },
    "kernelspec": {
      "name": "python3",
      "display_name": "Python 3"
    }
  },
  "cells": [
    {
      "cell_type": "markdown",
      "metadata": {
        "id": "view-in-github",
        "colab_type": "text"
      },
      "source": [
        "<a href=\"https://colab.research.google.com/github/Hoangthang017/CS336.L11/blob/master/Crawler/crawler_article_daa.ipynb\" target=\"_parent\"><img src=\"https://colab.research.google.com/assets/colab-badge.svg\" alt=\"Open In Colab\"/></a>"
      ]
    },
    {
      "cell_type": "markdown",
      "metadata": {
        "id": "lcupRlAkivrA",
        "colab_type": "text"
      },
      "source": [
        "##**import thư viện**"
      ]
    },
    {
      "cell_type": "code",
      "metadata": {
        "id": "pyFjYUOIiqZk",
        "colab_type": "code",
        "colab": {}
      },
      "source": [
        "# import thư viện \n",
        "from bs4 import BeautifulSoup\n",
        "import urllib.request"
      ],
      "execution_count": 35,
      "outputs": []
    },
    {
      "cell_type": "markdown",
      "metadata": {
        "id": "x_cUnE1njD4B",
        "colab_type": "text"
      },
      "source": [
        "##**Home page**\n"
      ]
    },
    {
      "cell_type": "code",
      "metadata": {
        "id": "4hIBJIi7jIAs",
        "colab_type": "code",
        "colab": {}
      },
      "source": [
        "url_hp = 'https://daa.uit.edu.vn'"
      ],
      "execution_count": 36,
      "outputs": []
    },
    {
      "cell_type": "markdown",
      "metadata": {
        "id": "iEm3r3qz42pS",
        "colab_type": "text"
      },
      "source": [
        "##**Functine kiểm tra thông báo trong 1 tháng**"
      ]
    },
    {
      "cell_type": "code",
      "metadata": {
        "id": "pQy8Ve_zu8h2",
        "colab_type": "code",
        "colab": {}
      },
      "source": [
        "import datetime\n",
        "import pytz\n",
        "def check_time(date_str):\n",
        "\n",
        "  # lấy ngày giờ hiện tại\n",
        "  ## Dạng native date\n",
        "  date_time_now = datetime.datetime.now()\n",
        "\n",
        "  ## Dạng utc\n",
        "  UTC = pytz.utc\n",
        "  date_time_utc_now = UTC.localize(date_time_now)\n",
        "\n",
        "  ## Dạng 'Asia/Ho_Chi_Minh'\n",
        "  VN_TZ = pytz.timezone('Asia/Ho_Chi_Minh')\n",
        "  date_time_now = date_time_utc_now.astimezone(VN_TZ)\n",
        "\n",
        "  ## chuyển thời gian hiện tại qua dạng chuỗi\n",
        "  date_time_now = date_time_now.strftime(\"%d/%m/%Y %H:%M\")\n",
        "\n",
        "  # convert ngày cần kiểm tra từ string sang datetime\n",
        "  format = '%d/%m/%Y %H:%M'\n",
        "  date_time_now = datetime.datetime.strptime(date_time_now, format)\n",
        "  date_time = datetime.datetime.strptime(date_str, format)\n",
        "\n",
        "  # convert datetime sang timestamp\n",
        "  time_stamp = date_time_now.timestamp() - date_time.timestamp() \n",
        "\n",
        "  # convert timestamp sang datetime\n",
        "  timestamp_to_datetime = datetime.datetime.fromtimestamp(time_stamp)\n",
        "\n",
        "  # lấy ngày tháng \n",
        "  date = timestamp_to_datetime.strftime(\"%d\")\n",
        "  month = timestamp_to_datetime.strftime(\"%m\")\n",
        "  ##year = timestamp_to_datetime.strftime(\"%y\")\n",
        "\n",
        "  # nếu vượt quá nữa năm không cần cào nữa\n",
        "  if (int(month) > 6):\n",
        "    flag = False\n",
        "  else:\n",
        "    flag = True\n",
        "\n",
        "  # kiểm tra có vượt 30 ngày hay không ?\n",
        "  if (int(date) == 31 or int(month) >= 2):\n",
        "    return [False,flag]\n",
        "  return [True,flag]"
      ],
      "execution_count": 37,
      "outputs": []
    },
    {
      "cell_type": "markdown",
      "metadata": {
        "id": "eZZO8V2y7f6F",
        "colab_type": "text"
      },
      "source": [
        "##**Function craw data từ trang con**"
      ]
    },
    {
      "cell_type": "code",
      "metadata": {
        "id": "GAPkWzYK-JPM",
        "colab_type": "code",
        "colab": {}
      },
      "source": [
        "def crawl_daa_subpage(url_sp):\n",
        "  print(\"Loading...\\n\")\n",
        "\n",
        "  # Các thông báo được craw\n",
        "  notice = []\n",
        "\n",
        "  # biến kiểm soát\n",
        "  flag = True\n",
        "  i = 0\n",
        "\n",
        "  # vòng lặp\n",
        "  while(flag):\n",
        "\n",
        "    # get and request url subpage\n",
        "    url = url_sp+ \"?page=\" + str(i)\n",
        "    page = urllib.request.urlopen(url)\n",
        "    content_more_link = BeautifulSoup(page, 'html.parser')\n",
        "\n",
        "    # tìm tất cả thẻ thẻ div của class content chứa nội dung thông báo\n",
        "    content = content_more_link.find_all('div',class_ = \"content\")\n",
        "\n",
        "    # tìm cái thông báo phù hợp trong các class content\n",
        "    for ct in content:\n",
        "\n",
        "      # tìm tất cả bài báo có trong content\n",
        "      article = ct.find_all('article')\n",
        "\n",
        "      # vòng lặp lấy thông tin của article\n",
        "      for art in article:\n",
        "\n",
        "        # lấy thời gian bài viết\n",
        "        day= art.find('div',class_ = \"submitted\").text.split()\n",
        "        date_time = day[1] + \" \"+ day[3]\n",
        "\n",
        "        # kiểm tra bài viết có nằm trong 1 tháng gần nhất hay không ?\n",
        "        check = check_time(date_time)\n",
        "        if (check[0]):\n",
        "          # lấy title bài viết\n",
        "          title = art.find('span').get('content')\n",
        "\n",
        "          # lấy nội dung\n",
        "          content_art =  art.find('div',class_ = 'content').text.strip()\n",
        "\n",
        "          # lấy link bài viết\n",
        "          link = art.find('ul',class_ = \"links inline\").find('a').get('href')\n",
        "          link = url_hp + link\n",
        "\n",
        "          # push article phù hợp vào \n",
        "          notice.append([title,date_time,content_art,link])\n",
        "\n",
        "        else:\n",
        "\n",
        "          # kiểm tra xem bài viết vượt quá nữa năm hay chưa \n",
        "          ## nếu vượt quá dừng craw data\n",
        "          if (check[1] == False):\n",
        "            flag = False\n",
        "\n",
        "    # tăng số page của trang\n",
        "    i += 1\n",
        "\n",
        "  print(\"Done!!!\")\n",
        "  return notice"
      ],
      "execution_count": 38,
      "outputs": []
    },
    {
      "cell_type": "markdown",
      "metadata": {
        "id": "w8z8vdIpjdqm",
        "colab_type": "text"
      },
      "source": [
        "##**Vì các thông báo đều được tổng hợp ở page thông báo nên chỉ cần crawl ở page này**"
      ]
    },
    {
      "cell_type": "code",
      "metadata": {
        "id": "WAoIqLPKd6rr",
        "colab_type": "code",
        "colab": {
          "base_uri": "https://localhost:8080/",
          "height": 67
        },
        "outputId": "b993a70e-3169-48b3-c49e-1d1c41702fbf"
      },
      "source": [
        "url_sp = \"https://daa.uit.edu.vn/thongbao\"\n",
        "Result = crawl_daa_subpage(url_sp)"
      ],
      "execution_count": 39,
      "outputs": [
        {
          "output_type": "stream",
          "text": [
            "Loading...\n",
            "\n",
            "Done!!!\n"
          ],
          "name": "stdout"
        }
      ]
    },
    {
      "cell_type": "markdown",
      "metadata": {
        "id": "qaX0p8PVlVBq",
        "colab_type": "text"
      },
      "source": [
        "##**Đưa dữ liệu vào file csv**"
      ]
    },
    {
      "cell_type": "code",
      "metadata": {
        "id": "4nq3G5_lf9B5",
        "colab_type": "code",
        "colab": {}
      },
      "source": [
        "import csv\n",
        "\n",
        "with open('/content/Notice_Daa.csv', mode='w') as file:\n",
        "    writer = csv.writer(file, delimiter=',', quotechar='\"', quoting=csv.QUOTE_MINIMAL)\n",
        "    writer.writerow([\"Title\",\"Time\",\"Content\",\"Link\"])\n",
        "    writer.writerows(Result)"
      ],
      "execution_count": 40,
      "outputs": []
    }
  ]
}